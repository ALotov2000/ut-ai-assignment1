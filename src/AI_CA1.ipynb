{
 "cells": [
  {
   "cell_type": "code",
   "execution_count": 1,
   "metadata": {},
   "outputs": [],
   "source": [
    "from solution.utils.formulateTestCase import formulateTestCase\n",
    "from solution.bfs.bfs import Bfs\n",
    "from solution.ids.ids import Ids\n",
    "from solution.aStar.aStar import AStar\n",
    "from solution.weightedAStar.weightedAStar import WeightedAStar\n",
    "from time import time\n",
    "\n",
    "testCount = 4"
   ]
  },
  {
   "cell_type": "code",
   "execution_count": 2,
   "metadata": {},
   "outputs": [
    {
     "name": "stdout",
     "output_type": "stream",
     "text": [
      "fellowship table:\n",
      "-\t-\t-\t-\t-\t-\t-\t-\t\n",
      "-\t-\t-\t-\t-\t-\t-\t1\t\n",
      "-\t-\t-\t-\t-\t-\t-\t-\t\n",
      "-\t-\t-\t-\t-\t-\t-\t-\t\n",
      "-\t-\t-\t-\t-\t-\t-\t-\t\n",
      "-\t-\t-\t-\t-\t-\t-\t-\t\n",
      "-\t-\t-\t-\t-\t-\t-\t-\t\n",
      "0\t-\t-\t-\t-\t-\t-\t-\t\n",
      "* * * * * * * * * * * * * * * * * * * * * * * * * * * * * * \n",
      "building table:\n",
      "-\t-\t-\t-\t-\t0\t-\t-\t\n",
      "-\t-\t-\t-\t-\t-\t-\t-\t\n",
      "-\t-\t-\t-\t-\t-\t-\t-\t\n",
      "-\t-\t-\t-\t-\t-\t-\t-\t\n",
      "-\t-\t-\t-\t-\t-\t-\t-\t\n",
      "-\t-\t-\t-\t-\t-\t-\t-\t\n",
      "-\t-\t-\t-\t-\t1\t-\t-\t\n",
      "-\t-\t-\t-\t-\t-\t-\t-\t\n",
      "* * * * * * * * * * * * * * * * * * * * * * * * * * * * * * \n",
      "orc table:\n",
      "-\t-\t-\t-\t-\t-\t-\t-\t\n",
      "-\t-\t-\t0\t-\t-\t-\t-\t\n",
      "-\t-\t-\t-\t-\t-\t-\t-\t\n",
      "-\t-\t-\t-\t-\t-\t-\t-\t\n",
      "-\t-\t-\t-\t-\t-\t2\t-\t\n",
      "-\t-\t-\t-\t-\t-\t-\t-\t\n",
      "-\t-\t1\t-\t-\t-\t-\t-\t\n",
      "-\t-\t-\t-\t-\t-\t-\t-\t\n",
      "* * * * * * * * * * * * * * * * * * * * * * * * * * * * * * \n",
      "cover table:\n",
      "-\t-\t0\t0\t0\t-\t-\t-\t\n",
      "-\t0\t0\t0\t0\t0\t-\t-\t\n",
      "-\t-\t0\t0\t0\t-\t2\t-\t\n",
      "-\t-\t-\t0\t-\t2\t2\t2\t\n",
      "-\t-\t-\t-\t2\t2\t2\t2\t\n",
      "-\t-\t1\t-\t-\t2\t2\t2\t\n",
      "-\t1\t1\t1\t-\t-\t2\t-\t\n",
      "-\t-\t1\t-\t-\t-\t-\t-\t\n",
      "* * * * * * * * * * * * * * * * * * * * * * * * * * * * * * \n"
     ]
    }
   ],
   "source": [
    "board, initGameState = formulateTestCase('../test/test_02.txt')\n",
    "board.printAll()"
   ]
  },
  {
   "cell_type": "code",
   "execution_count": 8,
   "metadata": {},
   "outputs": [
    {
     "name": "stdout",
     "output_type": "stream",
     "text": [
      "solution length: 48\n",
      "RRRRRRRRRRRRRRRRRRRRRRRRRRRRRDRUDRUDRUDRUDRRRRRR\n",
      "time: 0.38986754417419434\n",
      "visitedStateCount: 24782\n",
      "* * * * * * * * * * * * * * * * * * * * \n",
      "solution length: 52\n",
      "RRRRDDDDDDDDLLLRRRUUURURUDLDLDDDLRRRRRUUUUDDDDLLLRRR\n",
      "time: 0.06893181800842285\n",
      "visitedStateCount: 7036\n",
      "* * * * * * * * * * * * * * * * * * * * \n",
      "solution length: 34\n",
      "RRRRRRRDDDDLLLLDLLLRDDRUURURRRDRDD\n",
      "time: 0.06199908256530762\n",
      "visitedStateCount: 1678\n",
      "* * * * * * * * * * * * * * * * * * * * \n",
      "solution length: 66\n",
      "RRDDDDDDDDLLRDRRRRRRRRUUUUUUUUULLDDDDDLLDDDDLLLLRRRRUUUUURRRRDDDDD\n",
      "time: 0.46401500701904297\n",
      "visitedStateCount: 18973\n",
      "* * * * * * * * * * * * * * * * * * * * \n"
     ]
    }
   ],
   "source": [
    "for i in range(testCount):\n",
    "  start = time()\n",
    "  board, initGameState = formulateTestCase('../test/test_0' + str(i) + '.txt')\n",
    "  goalNode = Bfs.solve(board, initGameState)\n",
    "  end = time()\n",
    "\n",
    "  print('solution length:', goalNode.solutionLength)\n",
    "  print(goalNode.moves)\n",
    "  print('time:', end - start)\n",
    "  print('visitedStateCount:', Bfs.visitedStateCount)\n",
    "  print('* ' * 20)"
   ]
  },
  {
   "cell_type": "code",
   "execution_count": 9,
   "metadata": {},
   "outputs": [
    {
     "name": "stdout",
     "output_type": "stream",
     "text": [
      "solution length: 48\n",
      "RRRRRRRRRRRRRRRRRRRRRRRRRRRRRDURDURDURDURDRRRRRR\n",
      "time: 6.0390777587890625\n",
      "visitedStateCount: 203739\n",
      "* * * * * * * * * * * * * * * * * * * * \n",
      "solution length: 52\n",
      "DRRDRRLLDDDDDLDURUUUURRRRLLDDDLDDUURUURRRRDDDLDLLRRR\n",
      "time: 20.986969232559204\n",
      "visitedStateCount: 527731\n",
      "* * * * * * * * * * * * * * * * * * * * \n",
      "solution length: 34\n",
      "RRRRRRRLLLLDDDDLDLLDDRUURURRRDRDDR\n",
      "time: 0.9099917411804199\n",
      "visitedStateCount: 37524\n",
      "* * * * * * * * * * * * * * * * * * * * \n"
     ]
    }
   ],
   "source": [
    "for i in range(testCount):\n",
    "  if i == 3:\n",
    "    continue\n",
    "    # pass\n",
    "  start = time()\n",
    "  board, initGameState = formulateTestCase('../test/test_0' + str(i) + '.txt')\n",
    "  goalNode = Ids.solve(board, initGameState)\n",
    "  end = time()\n",
    "  print('solution length:', goalNode.solutionLength)\n",
    "  print(goalNode.moves)\n",
    "  print('time:', end - start)\n",
    "  print('visitedStateCount:', Ids.visitedStateCount)\n",
    "  print('* ' * 20)"
   ]
  },
  {
   "cell_type": "code",
   "execution_count": 10,
   "metadata": {},
   "outputs": [
    {
     "name": "stdout",
     "output_type": "stream",
     "text": [
      "solution length: 48\n",
      "RRRRRRRRRRRRRRRRRRRRRRRRRRRRRDRUDRUDRUDRUDRRRRRR\n",
      "time: 0.12699651718139648\n",
      "visitedStateCount: 8130\n",
      "* * * * * * * * * * * * * * * * * * * * \n",
      "solution length: 52\n",
      "RRRRDDDDDDLLDLDURURRURURULDDLDDDLRRRRURUUUDDDLDLLRRR\n",
      "time: 0.07200384140014648\n",
      "visitedStateCount: 6067\n",
      "* * * * * * * * * * * * * * * * * * * * \n",
      "solution length: 36\n",
      "RRRRDRRRUDDDLLLLDDLLLDDRRUURURRDRRDD\n",
      "time: 0.01399683952331543\n",
      "visitedStateCount: 1288\n",
      "* * * * * * * * * * * * * * * * * * * * \n",
      "solution length: 66\n",
      "RDDDRDDDDDLLRDRRRRRRRRUUUUUUUUULLDDDDLLDDDLLDLLDRRRUUURUURRRRDDDDD\n",
      "time: 0.2700471878051758\n",
      "visitedStateCount: 16187\n",
      "* * * * * * * * * * * * * * * * * * * * \n"
     ]
    }
   ],
   "source": [
    "for i in range(testCount):\n",
    "  start = time()\n",
    "  board, initGameState = formulateTestCase('../test/test_0' + str(i) + '.txt')\n",
    "  goalNode = AStar.solve(board, initGameState)\n",
    "  end = time()\n",
    "  print('solution length:', goalNode.solutionLength)\n",
    "  print(goalNode.moves)\n",
    "  print('time:', end - start)\n",
    "  print('visitedStateCount:', AStar.visitedStateCount)\n",
    "  print('* ' * 20)"
   ]
  },
  {
   "cell_type": "code",
   "execution_count": 11,
   "metadata": {},
   "outputs": [
    {
     "name": "stdout",
     "output_type": "stream",
     "text": [
      "solution length: 48\n",
      "RRRRRRRRRRRRRRRRRRRRRRRRRRRRRDRUDRUDRUDRUDRRRRRR\n",
      "time: 0.11904549598693848\n",
      "visitedStateCount: 7506\n",
      "* * * * * * * * * * * * * * * * * * * * \n",
      "solution length: 54\n",
      "RRRRDDRDDDLDDDLLLRRRUUURUURDLDLDDLDRRRRRUUUUDDDDLLLRRR\n",
      "time: 0.055991172790527344\n",
      "visitedStateCount: 5015\n",
      "* * * * * * * * * * * * * * * * * * * * \n",
      "solution length: 36\n",
      "RRRRRRRDDDDLLLLDLLLRRDDLRUURURRRDRDD\n",
      "time: 0.012961864471435547\n",
      "visitedStateCount: 1084\n",
      "* * * * * * * * * * * * * * * * * * * * \n",
      "solution length: 70\n",
      "RRDDDRDRDDDLDLLLRDRRRRRRRRUUUUUUUUULLDDLDDDLDDDLLDLLRRRUUURUURRRRDDDDD\n",
      "time: 0.28804707527160645\n",
      "visitedStateCount: 15791\n",
      "* * * * * * * * * * * * * * * * * * * * \n"
     ]
    }
   ],
   "source": [
    "for i in range(testCount):\n",
    "  start = time()\n",
    "  board, initGameState = formulateTestCase('../test/test_0' + str(i) + '.txt')\n",
    "  goalNode = WeightedAStar.solve(board, initGameState, 2)\n",
    "  end = time()\n",
    "  print('solution length:', goalNode.solutionLength)\n",
    "  print(goalNode.moves)\n",
    "  print('time:', end - start)\n",
    "  print('visitedStateCount:', WeightedAStar.visitedStateCount)\n",
    "  print('* ' * 20)"
   ]
  },
  {
   "cell_type": "code",
   "execution_count": 12,
   "metadata": {},
   "outputs": [
    {
     "name": "stdout",
     "output_type": "stream",
     "text": [
      "solution length: 48\n",
      "RRRRRRRRRRRRRRRRRRRRRRRRRRRRRDRUDRUDRUDRUDRRRRRR\n",
      "time: 0.05403947830200195\n",
      "visitedStateCount: 3694\n",
      "* * * * * * * * * * * * * * * * * * * * \n",
      "solution length: 62\n",
      "RRRRRDDLRRDDLDLDLDLLDRRRUUURUURRRDDDDDLLLLLRRRRRUUUUDDDDLLLRRR\n",
      "time: 0.06495308876037598\n",
      "visitedStateCount: 4598\n",
      "* * * * * * * * * * * * * * * * * * * * \n",
      "solution length: 36\n",
      "RRRRRRRDDDDLLLLDLLLRRDDLRUURURRRDRDD\n",
      "time: 0.010003328323364258\n",
      "visitedStateCount: 942\n",
      "* * * * * * * * * * * * * * * * * * * * \n",
      "solution length: 76\n",
      "RRDDDRDRRDDDDLLLLLRDRRRRRRRRUUUUUUUUULLRRDDDDDDDDDLLLLLLLLRRRRUUUUURRRRDDDDD\n",
      "time: 0.26604247093200684\n",
      "visitedStateCount: 15485\n",
      "* * * * * * * * * * * * * * * * * * * * \n"
     ]
    }
   ],
   "source": [
    "for i in range(testCount):\n",
    "  start = time()\n",
    "  board, initGameState = formulateTestCase('../test/test_0' + str(i) + '.txt')\n",
    "  goalNode = WeightedAStar.solve(board, initGameState, 3)\n",
    "  end = time()\n",
    "  print('solution length:', goalNode.solutionLength)\n",
    "  print(goalNode.moves)\n",
    "  print('time:', end - start)\n",
    "  print('visitedStateCount:', WeightedAStar.visitedStateCount)\n",
    "  print('* ' * 20)"
   ]
  }
 ],
 "metadata": {
  "interpreter": {
   "hash": "07bcaef3f743371bfa70ae5c8eb3dc99f4f1a7325522f271dfc6a6406db09d14"
  },
  "kernelspec": {
   "display_name": "Python 3.10.2 ('venv': venv)",
   "language": "python",
   "name": "python3"
  },
  "language_info": {
   "codemirror_mode": {
    "name": "ipython",
    "version": 3
   },
   "file_extension": ".py",
   "mimetype": "text/x-python",
   "name": "python",
   "nbconvert_exporter": "python",
   "pygments_lexer": "ipython3",
   "version": "3.10.2"
  },
  "orig_nbformat": 4
 },
 "nbformat": 4,
 "nbformat_minor": 2
}
