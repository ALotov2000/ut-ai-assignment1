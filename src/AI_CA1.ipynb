{
 "cells": [
  {
   "cell_type": "code",
   "execution_count": 1,
   "metadata": {},
   "outputs": [
    {
     "data": {
      "text/html": [
       "<style>\n",
       " @font-face {\n",
       "  font-family: kamran;\n",
       "  src: url(../assets/fonts/B\\ Kamran_0.ttf) format(\"truetype\");\n",
       "}\n",
       "\n",
       "@font-face {\n",
       "  font-family: nazanin;\n",
       "  src: url(../assets/fonts/Far_Nazanin.ttf) format(\"truetype\");\n",
       "}\n",
       "\n",
       "div.jp-MarkdownCell {\n",
       "  background-color: rgb(61, 61, 61);\n",
       "  border-radius: 4px;\n",
       "  padding: 20px;\n",
       "  margin: 10px;\n",
       "}\n",
       "\n",
       "div.jp-MarkdownCell:hover {\n",
       "  background-color: rgb(54, 54, 54);\n",
       "}\n",
       "\n",
       "div.jp-CodeCell {\n",
       "  border-radius: 4px;\n",
       "}\n",
       "\n",
       "p.align-center {\n",
       "  text-align: center;\n",
       "}\n",
       "\n",
       "p.align-right {\n",
       "  text-align: right;\n",
       "}\n",
       "\n",
       "p.align-left {\n",
       "  text-align: left;\n",
       "}\n",
       "\n",
       "p.title {\n",
       "  font-weight: bold;\n",
       "}\n",
       "\n",
       "p.persian {\n",
       "  direction: rtl;\n",
       "  font-family: nazanin;\n",
       "  font-size: 20px;\n",
       "}\n",
       "\n",
       "ul.align-right {\n",
       "  text-align: right;\n",
       "}\n",
       "\n",
       "ul.persian {\n",
       "  direction: rtl;\n",
       "  font-family: nazanin;\n",
       "  font-size: 20px;\n",
       "} \n",
       "</style>"
      ],
      "text/plain": [
       "<IPython.core.display.HTML object>"
      ]
     },
     "execution_count": 1,
     "metadata": {},
     "output_type": "execute_result"
    }
   ],
   "source": [
    "# Styling notebook\n",
    "from IPython.core.display import HTML\n",
    "def css_styling():\n",
    "    styles = open(\"./styles/style.css\", \"r\").read()\n",
    "    s = '<style>\\n %s \\n</style>' % styles\n",
    "    return HTML(s)\n",
    "css_styling()"
   ]
  },
  {
   "cell_type": "markdown",
   "metadata": {},
   "source": [
    "<p class=\"title align-center persian\">\n",
    "  پروژه ی یک درس هوش مصنوعی\n",
    "</p>\n",
    "<p class=\"persian align-right\">\n",
    "  در این پروژه، خواسته شده است که به روش های جست و جوی آگاهانه و نا آگاهانه، برای یک بازی راه حلی کامل و بهینه یافته شود. در این بازی گندالف شخصیتی است که باید در زمین ابتدا هر کدام از یاران حلقه را به مقصد مشخص شده یشان برساند و سپس خود به گاندور برود. این در حالی است که در عین حال نباید در طول مسیر هیچ ارکی را بیدار کند. ارک ها در دو صورت بیدار میشوند: یک مواجه شدن با گندالف در خانه ی خود و دو اینکه گندالف برای مدتی طولانی تر از آستانه ی آن ارک در محدوده ی تحت کنترلش باشد.\n",
    "</p>"
   ]
  },
  {
   "cell_type": "markdown",
   "metadata": {},
   "source": [
    "<p class=\"persian align-right\">\n",
    "  برای ارائه ی راه حل ها، مسئله به صورت زیر تعریف می شود:\n",
    "</p>\n",
    "\n",
    "<ul class=\"persian align-right\">\n",
    "  <li>\n",
    "    استیت ها: در هر استیت موقعیت گندالف، یاران حلقه و ارکی که گندالف در محدوده ی تحت کنترلش است ( می تواند در محدوده ی هیچ ارکی نباشد )، ثابت است.\n",
    "  </li>\n",
    "  <li>\n",
    "    حرکت ها: حرکت ها به چهار سمت راست، چپ، بالا و پایین خلاصه می شود.\n",
    "  </li>\n",
    "  <li>\n",
    "    استیت اولیه: استیتی است که گندالف در نقطه ی شروعش است، هیچ کدام از یاران حلقه نه همراه گندالف اند و نه در مقصدشان و  گندالف در محدوده ی هیچ ارکی نیست.\n",
    "  </li>\n",
    "  <li>\n",
    "    استیت نهایی: استیتی است که گندالف در گاندور است و همه ی یاران به مقصدشان رسیده اند.\n",
    "  </li>\n",
    "</ul>"
   ]
  },
  {
   "cell_type": "markdown",
   "metadata": {},
   "source": [
    "<p class=\"persian align-right\">\n",
    "  برای ارائه ی این پروژه سه پکیج utils، game و solution طراحی شده اند.\n",
    "</p>\n",
    "\n",
    "<p class=\"persian align-right\">\n",
    "  در پکیج utils کلاس های پایه ی برنامه قرار گرفته اند، در پکیج game اطلاعات مربوط به بازی قرار دارند و در پکیج solution توابع مربوط به هر یک از این الگوریتم های جست و جو پیاده سازی شده است.\n",
    "</p>\n",
    "<p class=\"persian align-right\">\n",
    "  به طور دقیق تر در پکیج game دو کلاس مهم را نگه می داریم: یک اطلاعات مربوط به برد که در طول بازی ثابت است و دو اطلاعات مربوط به استیت های بازی که شامل چگونگی ذخیره کردن و نحوه ی ارتباط استیت ها از طریق حرکت ها است.\n",
    "</p>"
   ]
  },
  {
   "cell_type": "code",
   "execution_count": 2,
   "metadata": {},
   "outputs": [],
   "source": [
    "from solution.utils.formulateTestCase import formulateTestCase\n",
    "from solution.bfs.bfs import Bfs\n",
    "from solution.ids.ids import Ids\n",
    "from solution.aStar.aStar import AStar\n",
    "from solution.weightedAStar.weightedAStar import WeightedAStar\n",
    "from time import time\n",
    "\n",
    "testCount = 4"
   ]
  },
  {
   "cell_type": "markdown",
   "metadata": {},
   "source": [
    "<p class=\"persian align-right\">\n",
    "  در ابتدا هر کدام از تست کیس ها خوانده شده و به صورت یک گیم استیت اولیه و یک برد در یک لیست ذخیره می شود.\n",
    "</p>"
   ]
  },
  {
   "cell_type": "code",
   "execution_count": 3,
   "metadata": {},
   "outputs": [],
   "source": [
    "boards = list()\n",
    "initGameStates = list()\n",
    "for i in range(testCount):\n",
    "  board, initGameState = formulateTestCase('../test/test_0' + str(i) + '.txt')\n",
    "  boards.append(board)\n",
    "  initGameStates.append(initGameState)"
   ]
  },
  {
   "cell_type": "markdown",
   "metadata": {},
   "source": [
    "<p class=\"persian align-right\">\n",
    "  سپس برای هر کدام از الگوریتم ها، همه ی تست کیس ها تست شده و به ترتیب اندازه ی جواب، مسیر جواب، زمان اجرا و تعداد استیت های دیده شده به نمایش در می آید.\n",
    "</p>"
   ]
  },
  {
   "cell_type": "code",
   "execution_count": 4,
   "metadata": {},
   "outputs": [
    {
     "name": "stdout",
     "output_type": "stream",
     "text": [
      "solution length: 48\n",
      "RRRRRRRRRRRRRRRRRRRRRRRRRRRRRDRUDRUDRUDRUDRRRRRR\n",
      "time: 0.8829529285430908\n",
      "visitedStateCount: 24782\n",
      "* * * * * * * * * * * * * * * * * * * * \n",
      "solution length: 52\n",
      "RRRRDDDDDDDDLLLRRRUUURURUDLDLDDDLRRRRRUUUUDDDDLLLRRR\n",
      "time: 0.27100205421447754\n",
      "visitedStateCount: 7036\n",
      "* * * * * * * * * * * * * * * * * * * * \n",
      "solution length: 34\n",
      "RRRRRRRDDDDLLLLDLLLRDDRUURURRRDRDD\n",
      "time: 0.06599974632263184\n",
      "visitedStateCount: 1678\n",
      "* * * * * * * * * * * * * * * * * * * * \n",
      "solution length: 66\n",
      "RRDDDDDDDDLLRDRRRRRRRRUUUUUUUUULLDDDDDLLDDDDLLLLRRRRUUUUURRRRDDDDD\n",
      "time: 0.705024003982544\n",
      "visitedStateCount: 18973\n",
      "* * * * * * * * * * * * * * * * * * * * \n"
     ]
    }
   ],
   "source": [
    "for i in range(testCount):\n",
    "  start = time()\n",
    "  goalNode = Bfs.solve(boards[i], initGameStates[i])\n",
    "  end = time()\n",
    "\n",
    "  print('solution length:', goalNode.solutionLength)\n",
    "  print(goalNode.moves)\n",
    "  print('time:', end - start)\n",
    "  print('visitedStateCount:', Bfs.visitedStateCount)\n",
    "  print('* ' * 20)"
   ]
  },
  {
   "cell_type": "code",
   "execution_count": 14,
   "metadata": {},
   "outputs": [
    {
     "name": "stdout",
     "output_type": "stream",
     "text": [
      "solution length: 48\n",
      "RRRRRRRRRRRRRRRRRRRRRRRRRRRRRDURDURDURDURDRRRRRR\n",
      "time: 5.838996410369873\n",
      "visitedStateCount: 203739\n",
      "* * * * * * * * * * * * * * * * * * * * \n",
      "solution length: 52\n",
      "DRRDRRLLDDDDDLDURUUUURRRRLLDDDLDDUURUURRRRDDDLDLLRRR\n",
      "time: 21.4470112323761\n",
      "visitedStateCount: 527731\n",
      "* * * * * * * * * * * * * * * * * * * * \n",
      "solution length: 34\n",
      "RRRRRRRLLLLDDDDLDLLDDRUURURRRDRDDR\n",
      "time: 0.6689865589141846\n",
      "visitedStateCount: 37524\n",
      "* * * * * * * * * * * * * * * * * * * * \n",
      "solution length: 66\n",
      "DDRDRDDLDLDDDRURUUUUUUUURRRRRRRLLLLLLLDDDDDDDDLDURUUUURRRRRRRDDDDD\n",
      "time: 105.68904781341553\n",
      "visitedStateCount: 1708030\n",
      "* * * * * * * * * * * * * * * * * * * * \n"
     ]
    }
   ],
   "source": [
    "for i in range(testCount):\n",
    "  if i == 3:\n",
    "    # continue\n",
    "    pass\n",
    "  start = time()\n",
    "  goalNode = Ids.solve(boards[i], initGameStates[i])\n",
    "  end = time()\n",
    "  print('solution length:', goalNode.solutionLength)\n",
    "  print(goalNode.moves)\n",
    "  print('time:', end - start)\n",
    "  print('visitedStateCount:', Ids.visitedStateCount)\n",
    "  print('* ' * 20)"
   ]
  },
  {
   "cell_type": "markdown",
   "metadata": {},
   "source": [
    "<p class=\"persian align-right\">\n",
    "  برای الگوریتم های A Star و Weighted A Star در هر استیت از فاصله ی منهتن موقعیت گندالف در آن استیت تا نقطه ی هدف به عنوان تابع heuristic استفاده می شود.\n",
    "</p>"
   ]
  },
  {
   "cell_type": "code",
   "execution_count": 6,
   "metadata": {},
   "outputs": [
    {
     "name": "stdout",
     "output_type": "stream",
     "text": [
      "solution length: 48\n",
      "RRRRRRRRRRRRRRRRRRRRRRRRRRRRRDRUDRUDRUDRUDRRRRRR\n",
      "time: 0.25899815559387207\n",
      "visitedStateCount: 8130\n",
      "* * * * * * * * * * * * * * * * * * * * \n",
      "solution length: 52\n",
      "RRRRDDDDDDLLDLDURURRURURULDDLDDDLRRRRURUUUDDDLDLLRRR\n",
      "time: 0.14304280281066895\n",
      "visitedStateCount: 6067\n",
      "* * * * * * * * * * * * * * * * * * * * \n",
      "solution length: 36\n",
      "RRRRDRRRUDDDLLLLDDLLLDDRRUURURRDRRDD\n",
      "time: 0.02800130844116211\n",
      "visitedStateCount: 1288\n",
      "* * * * * * * * * * * * * * * * * * * * \n",
      "solution length: 66\n",
      "RDDDRDDDDDLLRDRRRRRRRRUUUUUUUUULLDDDDLLDDDLLDLLDRRRUUURUURRRRDDDDD\n",
      "time: 0.6359939575195312\n",
      "visitedStateCount: 16187\n",
      "* * * * * * * * * * * * * * * * * * * * \n"
     ]
    }
   ],
   "source": [
    "for i in range(testCount):\n",
    "  start = time()\n",
    "  goalNode = AStar.solve(boards[i], initGameStates[i])\n",
    "  end = time()\n",
    "  print('solution length:', goalNode.solutionLength)\n",
    "  print(goalNode.moves)\n",
    "  print('time:', end - start)\n",
    "  print('visitedStateCount:', AStar.visitedStateCount)\n",
    "  print('* ' * 20)"
   ]
  },
  {
   "cell_type": "code",
   "execution_count": 13,
   "metadata": {},
   "outputs": [
    {
     "name": "stdout",
     "output_type": "stream",
     "text": [
      "solution length: 48\n",
      "RRRRRRRRRRRRRRRRRRRRRRRRRRRRRDRUDRUDRUDRUDRRRRRR\n",
      "time: 0.20892548561096191\n",
      "visitedStateCount: 7506\n",
      "* * * * * * * * * * * * * * * * * * * * \n",
      "solution length: 54\n",
      "RRRRDDRDDDLDDDLLLRRRUUURUURDLDLDDLDRRRRRUUUUDDDDLLLRRR\n",
      "time: 0.07800579071044922\n",
      "visitedStateCount: 5015\n",
      "* * * * * * * * * * * * * * * * * * * * \n",
      "solution length: 36\n",
      "RRRRRRRDDDDLLLLDLLLRRDDLRUURURRRDRDD\n",
      "time: 0.012005329132080078\n",
      "visitedStateCount: 1084\n",
      "* * * * * * * * * * * * * * * * * * * * \n",
      "solution length: 70\n",
      "RRDDDRDRDDDLDLLLRDRRRRRRRRUUUUUUUUULLDDLDDDLDDDLLDLLRRRUUURUURRRRDDDDD\n",
      "time: 0.22599196434020996\n",
      "visitedStateCount: 15791\n",
      "* * * * * * * * * * * * * * * * * * * * \n"
     ]
    }
   ],
   "source": [
    "for i in range(testCount):\n",
    "  start = time()\n",
    "  goalNode = WeightedAStar.solve(boards[i], initGameStates[i], 2)\n",
    "  end = time()\n",
    "  print('solution length:', goalNode.solutionLength)\n",
    "  print(goalNode.moves)\n",
    "  print('time:', end - start)\n",
    "  print('visitedStateCount:', WeightedAStar.visitedStateCount)\n",
    "  print('* '  * 20)"
   ]
  },
  {
   "cell_type": "code",
   "execution_count": 12,
   "metadata": {},
   "outputs": [
    {
     "name": "stdout",
     "output_type": "stream",
     "text": [
      "solution length: 48\n",
      "RRRRRRRRRRRRRRRRRRRRRRRRRRRRRDRUDRUDRUDRUDRRRRRR\n",
      "time: 0.05102896690368652\n",
      "visitedStateCount: 3694\n",
      "* * * * * * * * * * * * * * * * * * * * \n",
      "solution length: 62\n",
      "RRRRRDDLRRDDLDLDLDLLDRRRUUURUURRRDDDDDLLLLLRRRRRUUUUDDDDLLLRRR\n",
      "time: 0.1229712963104248\n",
      "visitedStateCount: 4598\n",
      "* * * * * * * * * * * * * * * * * * * * \n",
      "solution length: 36\n",
      "RRRRRRRDDDDLLLLDLLLRRDDLRUURURRRDRDD\n",
      "time: 0.010999441146850586\n",
      "visitedStateCount: 942\n",
      "* * * * * * * * * * * * * * * * * * * * \n",
      "solution length: 76\n",
      "RRDDDRDRRDDDDLLLLLRDRRRRRRRRUUUUUUUUULLRRDDDDDDDDDLLLLLLLLRRRRUUUUURRRRDDDDD\n",
      "time: 0.21300220489501953\n",
      "visitedStateCount: 15485\n",
      "* * * * * * * * * * * * * * * * * * * * \n"
     ]
    }
   ],
   "source": [
    "for i in range(testCount):\n",
    "  start = time()\n",
    "  goalNode = WeightedAStar.solve(boards[i], initGameStates[i], 3)\n",
    "  end = time()\n",
    "  print('solution length:', goalNode.solutionLength)\n",
    "  print(goalNode.moves)\n",
    "  print('time:', end - start)\n",
    "  print('visitedStateCount:', WeightedAStar.visitedStateCount)\n",
    "  print('* '  * 20)"
   ]
  },
  {
   "cell_type": "markdown",
   "metadata": {},
   "source": [
    "<p class=\"persian align-right\">\n",
    "  در اینجا با استفاده از الگوریتم های مختلف، اندازه ی جواب، تعداد استیت های دیده شده و زمان اجرا برای هر تست کیس نمایش داده شده است. \n",
    "</p>"
   ]
  },
  {
   "cell_type": "markdown",
   "metadata": {},
   "source": [
    "<table class=\"persian align-center\">\n",
    "  <tr>\n",
    "    <th>الگوریتم</th>\n",
    "    <th>زمان اجرا</th>\n",
    "    <th>اندازه ی جواب</th>\n",
    "    <th>تعداد استیت ها</th>\n",
    "  </tr>\n",
    "  <tr>\n",
    "    <td>BFS</td>\n",
    "    <td>397</td>\n",
    "    <td>48</td>\n",
    "    <td>24782</td>\n",
    "  </tr>\n",
    "  <tr>\n",
    "    <td>IDS</td>\n",
    "    <td>5519</td>\n",
    "    <td>48</td>\n",
    "    <td>203739</td>\n",
    "  </tr>\n",
    "  <tr>\n",
    "    <td>A Star</td>\n",
    "    <td>167</td>\n",
    "    <td>48</td>\n",
    "    <td>8130</td>\n",
    "  </tr>\n",
    "  <tr>\n",
    "    <td>Weighted A Star alpha=2</td>\n",
    "    <td>161</td>\n",
    "    <td>48</td>\n",
    "    <td>7506</td>\n",
    "  </tr>\n",
    "  <tr>\n",
    "    <td>Weighted A Star alpha=3</td>\n",
    "    <td>62</td>\n",
    "    <td>48</td>\n",
    "    <td>3694</td>\n",
    "  </tr>\n",
    "</table>"
   ]
  },
  {
   "cell_type": "markdown",
   "metadata": {},
   "source": [
    "<table class=\"persian align-center\">\n",
    "  <tr>\n",
    "    <th>الگوریتم</th>\n",
    "    <th>زمان اجرا</th>\n",
    "    <th>اندازه ی جواب</th>\n",
    "    <th>تعداد استیت ها</th>\n",
    "  </tr>\n",
    "  <tr>\n",
    "    <td>BFS</td>\n",
    "    <td>75</td>\n",
    "    <td>52</td>\n",
    "    <td>7036</td>\n",
    "  </tr>\n",
    "  <tr>\n",
    "    <td>IDS</td>\n",
    "    <td>18363</td>\n",
    "    <td>52</td>\n",
    "    <td>527731</td>\n",
    "  </tr>\n",
    "  <tr>\n",
    "    <td>A Star</td>\n",
    "    <td>72</td>\n",
    "    <td>52</td>\n",
    "    <td>6067</td>\n",
    "  </tr>\n",
    "  <tr>\n",
    "    <td>Weighted A Star alpha=2</td>\n",
    "    <td>72</td>\n",
    "    <td>54</td>\n",
    "    <td>5015</td>\n",
    "  </tr>\n",
    "  <tr>\n",
    "    <td>Weighted A Star alpha=3</td>\n",
    "    <td>125</td>\n",
    "    <td>62</td>\n",
    "    <td>4598</td>\n",
    "  </tr>\n",
    "</table>"
   ]
  },
  {
   "cell_type": "markdown",
   "metadata": {},
   "source": [
    "<table class=\"persian align-center\">\n",
    "  <tr>\n",
    "    <th>الگوریتم</th>\n",
    "    <th>زمان اجرا</th>\n",
    "    <th>اندازه ی جواب</th>\n",
    "    <th>تعداد استیت ها</th>\n",
    "  </tr>\n",
    "  <tr>\n",
    "    <td>BFS</td>\n",
    "    <td>15</td>\n",
    "    <td>34</td>\n",
    "    <td>1678</td>\n",
    "  </tr>\n",
    "  <tr>\n",
    "    <td>IDS</td>\n",
    "    <td>920</td>\n",
    "    <td>34</td>\n",
    "    <td>37524</td>\n",
    "  </tr>\n",
    "  <tr>\n",
    "    <td>A Star</td>\n",
    "    <td>12</td>\n",
    "    <td>34</td>\n",
    "    <td>1288</td>\n",
    "  </tr>\n",
    "  <tr>\n",
    "    <td>Weighted A Star alpha=2</td>\n",
    "    <td>11</td>\n",
    "    <td>36</td>\n",
    "    <td>1084</td>\n",
    "  </tr>\n",
    "  <tr>\n",
    "    <td>Weighted A Star alpha=3</td>\n",
    "    <td>10</td>\n",
    "    <td>36</td>\n",
    "    <td>942</td>\n",
    "  </tr>\n",
    "</table>"
   ]
  },
  {
   "cell_type": "markdown",
   "metadata": {},
   "source": [
    "<table class=\"persian align-center\">\n",
    "  <tr>\n",
    "    <th>الگوریتم</th>\n",
    "    <th>زمان اجرا</th>\n",
    "    <th>اندازه ی جواب</th>\n",
    "    <th>تعداد استیت ها</th>\n",
    "  </tr>\n",
    "  <tr>\n",
    "    <td>BFS</td>\n",
    "    <td>334</td>\n",
    "    <td>66</td>\n",
    "    <td>18973</td>\n",
    "  </tr>\n",
    "  <tr>\n",
    "    <td>IDS</td>\n",
    "    <td>100223</td>\n",
    "    <td>66</td>\n",
    "    <td>1708030</td>\n",
    "  </tr>\n",
    "  <tr>\n",
    "    <td>A Star</td>\n",
    "    <td>265</td>\n",
    "    <td>66</td>\n",
    "    <td>16187</td>\n",
    "  </tr>\n",
    "  <tr>\n",
    "    <td>Weighted A Star alpha=2</td>\n",
    "    <td>232</td>\n",
    "    <td>70</td>\n",
    "    <td>15791</td>\n",
    "  </tr>\n",
    "  <tr>\n",
    "    <td>Weighted A Star alpha=3</td>\n",
    "    <td>236</td>\n",
    "    <td>76</td>\n",
    "    <td>15485</td>\n",
    "  </tr>\n",
    "</table>"
   ]
  },
  {
   "cell_type": "markdown",
   "metadata": {},
   "source": [
    "<p class=\"persian align-right\">\n",
    "  طبق این جدول می توان نتیجه گرفت:\n",
    "</p>\n",
    "<ul class=\"persian align-right\">\n",
    "  <li>\n",
    "    همه ی این الگوریتم ها کامل هستند.\n",
    "  </li>\n",
    "  <li>\n",
    "    استفاده از الگوریتم weighted A Star لزوما جواب بهینه را نتیجه نمیدهد.\n",
    "  </li>\n",
    "  <li>\n",
    "    می توان از نظر تعداد استیت های دیده شده تا جواب، این الگوریتم ها را به شکل زیر مقایسه کرد:\n",
    "    <br/>\n",
    "    Weighted A Star < A Star < BFS < IDS\n",
    "  </li>\n",
    "</ul>"
   ]
  },
  {
   "cell_type": "markdown",
   "metadata": {},
   "source": [
    "<p class=\"persian align-right\">\n",
    "  در نهایت برای مقایسه ی این الگوریتم ها به طور کلی می توان گفت که:\n",
    "</p>\n",
    "<ul class=\"persian align-right\">\n",
    "  <li>\n",
    "    مزیت BFS سادگی پیاده سازی آن است\n",
    "  </li>\n",
    "  <li>\n",
    "    مزیت IDS استفاده ی بهینه از حافظه است چرا که از O(db) حافظه استفاده شده است. ( d طول مسیر بهینه و b مقدار branching factor است )\n",
    "  </li>\n",
    "  <li>\n",
    "    مزیت A Star تعداد استیت های بررسی شده ی کمتر آن است که در بلند مدت باعث کاهش زمان اجرا می شود. اما به هر حال وجود آگاهی در رابطه با محیط، شرط استفاده از این الگوریتم است.\n",
    "  </li>\n",
    "  <li>\n",
    "    مزیت Weighted A Star نیز سرعت بالای آن است. اما این سرعت بالا با بهینه بودن جواب به گونه ای مبادله شده است.\n",
    "  </li>\n",
    "</ul>"
   ]
  }
 ],
 "metadata": {
  "interpreter": {
   "hash": "07bcaef3f743371bfa70ae5c8eb3dc99f4f1a7325522f271dfc6a6406db09d14"
  },
  "kernelspec": {
   "display_name": "Python 3.10.2 ('venv': venv)",
   "language": "python",
   "name": "python3"
  },
  "language_info": {
   "codemirror_mode": {
    "name": "ipython",
    "version": 3
   },
   "file_extension": ".py",
   "mimetype": "text/x-python",
   "name": "python",
   "nbconvert_exporter": "python",
   "pygments_lexer": "ipython3",
   "version": "3.10.2"
  },
  "orig_nbformat": 4
 },
 "nbformat": 4,
 "nbformat_minor": 2
}
